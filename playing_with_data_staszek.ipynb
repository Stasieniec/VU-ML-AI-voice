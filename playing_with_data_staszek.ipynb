{
 "cells": [
  {
   "cell_type": "markdown",
   "metadata": {},
   "source": [
    "# Amazing ML journey with Stan    \n",
    "Welcome! Let me show you around on this amazing experience.   \n",
    "FOR THE LOVE OF GOD DO NOT JUST RUN THE WHOLE THING!    \n"
   ]
  },
  {
   "cell_type": "markdown",
   "metadata": {},
   "source": [
    "## 1. Data processing"
   ]
  },
  {
   "cell_type": "markdown",
   "metadata": {},
   "source": [
    "#### The path    \n",
    "First, make sure that you have created a .py file containing variable AUDIO_DATA_PATH with the path to the audio data, pointing to AUDIO."
   ]
  },
  {
   "cell_type": "code",
   "execution_count": 1,
   "metadata": {},
   "outputs": [
    {
     "name": "stdout",
     "output_type": "stream",
     "text": [
      "data/AUDIO\n"
     ]
    }
   ],
   "source": [
    "import paths\n",
    "# Create a .py file containing variable AUDIO_DATA_PATH with the path to the audio data, pointing to AUDIO\n",
    "AUDIO_DATA_PATH = paths.AUDIO_DATA_PATH\n",
    "print(AUDIO_DATA_PATH)\n",
    "# The structure of the data folder should be as follows:\n",
    "\n",
    "#         ↓   The path should be pointing to this folder\n",
    "# data/AUDIO/\n",
    "#           FAKE\n",
    "#           REAL"
   ]
  },
  {
   "cell_type": "markdown",
   "metadata": {},
   "source": [
    "### Imports"
   ]
  },
  {
   "cell_type": "code",
   "execution_count": 2,
   "metadata": {},
   "outputs": [
    {
     "name": "stderr",
     "output_type": "stream",
     "text": [
      "c:\\Users\\wasil\\anaconda3\\envs\\ml01\\lib\\site-packages\\pydub\\utils.py:170: RuntimeWarning: Couldn't find ffmpeg or avconv - defaulting to ffmpeg, but may not work\n",
      "  warn(\"Couldn't find ffmpeg or avconv - defaulting to ffmpeg, but may not work\", RuntimeWarning)\n"
     ]
    }
   ],
   "source": [
    "# Imports go brrrrrr\n",
    "import os\n",
    "import pathlib\n",
    "\n",
    "import matplotlib.pyplot as plt\n",
    "import numpy as np\n",
    "import tensorflow as tf\n",
    "import keras\n",
    "import wave\n",
    "import cv2\n",
    "import matplotlib.pyplot as plt\n",
    "import sklearn\n",
    "import scipy.io.wavfile as wav\n",
    "\n",
    "from keras import layers\n",
    "from keras import models\n",
    "from IPython import display\n",
    "from pydub import AudioSegment\n",
    "\n",
    "from sklearn.model_selection import learning_curve\n",
    "from sklearn.model_selection import train_test_split\n"
   ]
  },
  {
   "cell_type": "markdown",
   "metadata": {},
   "source": [
    "### Splitting audio    \n"
   ]
  },
  {
   "cell_type": "code",
   "execution_count": 4,
   "metadata": {},
   "outputs": [
    {
     "name": "stdout",
     "output_type": "stream",
     "text": [
      "data/AUDIO\\REAL\\biden-original.wav\n",
      "data/AUDIO\\REAL\\biden2.wav\n",
      "data/AUDIO\\REAL\\biden3.wav\n",
      "data/AUDIO\\REAL\\biden4.wav\n",
      "data/AUDIO\\REAL\\linus-original.wav\n",
      "data/AUDIO\\REAL\\linus2.wav\n",
      "data/AUDIO\\REAL\\linus3.wav\n",
      "data/AUDIO\\REAL\\margot-original.wav\n",
      "data/AUDIO\\REAL\\margot.wav\n",
      "data/AUDIO\\REAL\\musk-original.wav\n",
      "data/AUDIO\\REAL\\musk.wav\n",
      "data/AUDIO\\REAL\\musk2.wav\n",
      "data/AUDIO\\REAL\\obama-original.wav\n",
      "data/AUDIO\\REAL\\obama2.wav\n",
      "data/AUDIO\\REAL\\ryan-original.wav\n",
      "data/AUDIO\\REAL\\ryan.wav\n",
      "data/AUDIO\\REAL\\taylor-original.wav\n",
      "data/AUDIO\\REAL\\taylor.wav\n",
      "data/AUDIO\\REAL\\trump-original.wav\n",
      "data/AUDIO\\REAL\\trump.wav\n",
      "data/AUDIO\\REAL\\trump2.wav\n",
      "data/AUDIO\\REAL\\trump33.wav\n",
      "data/AUDIO\\FAKE\\biden-to-linus.wav\n",
      "data/AUDIO\\FAKE\\biden-to-margot.wav\n",
      "data/AUDIO\\FAKE\\biden-to-musk.wav\n",
      "data/AUDIO\\FAKE\\biden-to-Obama.wav\n",
      "data/AUDIO\\FAKE\\biden-to-ryan.wav\n",
      "data/AUDIO\\FAKE\\biden-to-taylor.wav\n",
      "data/AUDIO\\FAKE\\biden-to-Trump.wav\n",
      "data/AUDIO\\FAKE\\linus-to-biden.wav\n",
      "data/AUDIO\\FAKE\\linus-to-margot.wav\n",
      "data/AUDIO\\FAKE\\linus-to-musk.wav\n",
      "data/AUDIO\\FAKE\\linus-to-obama.wav\n",
      "data/AUDIO\\FAKE\\linus-to-ryan.wav\n",
      "data/AUDIO\\FAKE\\linus-to-taylor.wav\n",
      "data/AUDIO\\FAKE\\linus-to-trump.wav\n",
      "data/AUDIO\\FAKE\\margot-to-biden.wav\n",
      "data/AUDIO\\FAKE\\margot-to-linus.wav\n",
      "data/AUDIO\\FAKE\\margot-to-musk.wav\n",
      "data/AUDIO\\FAKE\\margot-to-obama.wav\n",
      "data/AUDIO\\FAKE\\margot-to-ryan.wav\n",
      "data/AUDIO\\FAKE\\margot-to-taylor.wav\n",
      "data/AUDIO\\FAKE\\margot-to-trump.wav\n",
      "data/AUDIO\\FAKE\\musk-to-biden.wav\n",
      "data/AUDIO\\FAKE\\musk-to-linus.wav\n",
      "data/AUDIO\\FAKE\\musk-to-margot.wav\n",
      "data/AUDIO\\FAKE\\musk-to-obama.wav\n",
      "data/AUDIO\\FAKE\\musk-to-ryan.wav\n",
      "data/AUDIO\\FAKE\\musk-to-taylor.wav\n",
      "data/AUDIO\\FAKE\\musk-to-trump.wav\n",
      "data/AUDIO\\FAKE\\Obama-to-Biden.wav\n",
      "data/AUDIO\\FAKE\\obama-to-linus.wav\n",
      "data/AUDIO\\FAKE\\obama-to-margot.wav\n",
      "data/AUDIO\\FAKE\\obama-to-musk.wav\n",
      "data/AUDIO\\FAKE\\obama-to-ryan.wav\n",
      "data/AUDIO\\FAKE\\obama-to-taylor.wav\n",
      "data/AUDIO\\FAKE\\Obama-to-Trump.wav\n",
      "data/AUDIO\\FAKE\\ryan-to-biden.wav\n",
      "data/AUDIO\\FAKE\\ryan-to-linus.wav\n",
      "data/AUDIO\\FAKE\\ryan-to-margot.wav\n",
      "data/AUDIO\\FAKE\\ryan-to-musk.wav\n",
      "data/AUDIO\\FAKE\\ryan-to-obama.wav\n",
      "data/AUDIO\\FAKE\\ryan-to-taylor.wav\n",
      "data/AUDIO\\FAKE\\ryan-to-trump.wav\n",
      "data/AUDIO\\FAKE\\taylor-to-biden.wav\n",
      "data/AUDIO\\FAKE\\taylor-to-linus.wav\n",
      "data/AUDIO\\FAKE\\taylor-to-margot.wav\n",
      "data/AUDIO\\FAKE\\taylor-to-musk.wav\n",
      "data/AUDIO\\FAKE\\taylor-to-obama.wav\n",
      "data/AUDIO\\FAKE\\taylor-to-ryan.wav\n",
      "data/AUDIO\\FAKE\\taylor-to-trump.wav\n",
      "data/AUDIO\\FAKE\\trump-to-Biden.wav\n",
      "data/AUDIO\\FAKE\\trump-to-linus.wav\n",
      "data/AUDIO\\FAKE\\trump-to-margot.wav\n",
      "data/AUDIO\\FAKE\\trump-to-musk.wav\n",
      "data/AUDIO\\FAKE\\trump-to-Obama.wav\n",
      "data/AUDIO\\FAKE\\trump-to-ryan.wav\n",
      "data/AUDIO\\FAKE\\trump-to-taylor.wav\n"
     ]
    }
   ],
   "source": [
    "# Splitting the data into 10 second fragments and saving them to the AUDIO folder\n",
    "\n",
    "def split_audio(input_folder, output_folder, duration=10):\n",
    "\n",
    "    for root, _, files in os.walk(input_folder):\n",
    "        for file in files:\n",
    "            if file.endswith(\".mp3\") or file.endswith(\".wav\"):\n",
    "                input_path = os.path.join(root, file)\n",
    "                print(input_path)\n",
    "                audio = AudioSegment.from_file(input_path)\n",
    "\n",
    "                for i, chunk in enumerate(audio[::duration * 1000]): # duration 10 seconds\n",
    "                    chunk_name = f\"{os.path.splitext(file)[0]}_{i}.wav\"\n",
    "                    output_path = os.path.join(output_folder, chunk_name)\n",
    "                    chunk.export(output_path, format=\"wav\")\n",
    "\n",
    "input_folder = AUDIO_DATA_PATH\n",
    "output_folder_real = os.path.join(AUDIO_DATA_PATH, \"NEW_REAL\")\n",
    "output_folder_fake = os.path.join(AUDIO_DATA_PATH, \"NEW_FAKE\")\n",
    "\n",
    "split_audio(os.path.join(input_folder, \"REAL\"), output_folder_real)\n",
    "split_audio(os.path.join(input_folder, \"FAKE\"), output_folder_fake)\n"
   ]
  },
  {
   "cell_type": "markdown",
   "metadata": {},
   "source": [
    "### Saving images  \n",
    "Now it's time to save all slices of audio as spectograms    \n",
    "(This might take a while, for me it was 12 minutes)"
   ]
  },
  {
   "cell_type": "code",
   "execution_count": 3,
   "metadata": {},
   "outputs": [
    {
     "name": "stderr",
     "output_type": "stream",
     "text": [
      "C:\\Users\\wasil\\AppData\\Local\\Temp\\ipykernel_1964\\1412102039.py:25: UserWarning: Only one segment is calculated since parameter NFFT (=256) >= signal length (=144).\n",
      "  plt.specgram(data, Fs=sample_rate)\n",
      "c:\\Users\\wasil\\anaconda3\\envs\\ml01\\lib\\site-packages\\matplotlib\\axes\\_axes.py:7944: RuntimeWarning: divide by zero encountered in log10\n",
      "  Z = 10. * np.log10(spec)\n"
     ]
    },
    {
     "data": {
      "text/plain": [
       "<Figure size 640x480 with 0 Axes>"
      ]
     },
     "metadata": {},
     "output_type": "display_data"
    }
   ],
   "source": [
    "path = AUDIO_DATA_PATH\n",
    "\n",
    "fake_img = \"FAKE_IMG\"\n",
    "real_img = \"REAL_IMG\"\n",
    "\n",
    "# Create folders if they don't exist\n",
    "if not os.path.exists(fake_img):\n",
    "    os.makedirs(fake_img)\n",
    "if not os.path.exists(real_img):\n",
    "    os.makedirs(real_img)\n",
    "\n",
    "for subfolder in os.listdir(path):\n",
    "    \n",
    "    if subfolder == \"NEW_FAKE\":\n",
    "        output = fake_img\n",
    "    elif subfolder == \"NEW_REAL\":\n",
    "        output = real_img\n",
    "    else:\n",
    "        continue\n",
    "\n",
    "    for file in os.listdir(os.path.join(path, subfolder)):\n",
    "        if file.endswith(\".wav\"):\n",
    "            sample_rate, data = wav.read(os.path.join(path, subfolder, file))\n",
    "            data = np.mean(data, axis=1) # mono channel is a mean of both channels\n",
    "            plt.specgram(data, Fs=sample_rate)\n",
    "            plt.savefig(os.path.join(output, file[:-4] + \".png\"))\n",
    "            plt.clf()\n"
   ]
  },
  {
   "cell_type": "markdown",
   "metadata": {},
   "source": [
    "## 2. Model training"
   ]
  },
  {
   "cell_type": "markdown",
   "metadata": {},
   "source": [
    "### Splitting data into train, test, and validation sets"
   ]
  },
  {
   "cell_type": "code",
   "execution_count": 3,
   "metadata": {},
   "outputs": [
    {
     "name": "stdout",
     "output_type": "stream",
     "text": [
      "Found 4556 files belonging to 2 classes.\n",
      "Using 3190 files for training.\n",
      "Found 4556 files belonging to 2 classes.\n",
      "Using 1366 files for validation.\n"
     ]
    }
   ],
   "source": [
    "image_size = (128, 128)\n",
    "validation_split = 0.3\n",
    "seed_train_validation = 1\n",
    "shuffle_value = True\n",
    "\n",
    "train_ds = tf.keras.utils.image_dataset_from_directory(\n",
    "    directory='data/IMAGES',\n",
    "    image_size=image_size,\n",
    "    validation_split=validation_split,\n",
    "    subset=\"training\",\n",
    "    seed=seed_train_validation,\n",
    "    color_mode='grayscale', # normal matrix multiplication is hard enough\n",
    "    shuffle=shuffle_value\n",
    ")\n",
    "\n",
    "val_ds = tf.keras.utils.image_dataset_from_directory(\n",
    "    directory='data/IMAGES',\n",
    "    image_size=image_size,\n",
    "    validation_split=validation_split,\n",
    "    subset=\"validation\",\n",
    "    seed=seed_train_validation,\n",
    "    color_mode='grayscale',\n",
    "    shuffle=shuffle_value\n",
    ")\n",
    "\n",
    "# number of batches in the validation set\n",
    "val_batches = tf.data.experimental.cardinality(val_ds)\n",
    "\n",
    "# split validation into test and validation sets\n",
    "test_ds = val_ds.take((2 * val_batches) // 3)\n",
    "val_ds = val_ds.skip((2 * val_batches) // 3)\n",
    "\n"
   ]
  },
  {
   "cell_type": "markdown",
   "metadata": {},
   "source": [
    "## Construct the model\n",
    "\n"
   ]
  },
  {
   "cell_type": "code",
   "execution_count": 9,
   "metadata": {},
   "outputs": [
    {
     "name": "stdout",
     "output_type": "stream",
     "text": [
      "Model: \"sequential_3\"\n",
      "_________________________________________________________________\n",
      " Layer (type)                Output Shape              Param #   \n",
      "=================================================================\n",
      " conv2d_9 (Conv2D)           (None, 124, 124, 32)      832       \n",
      "                                                                 \n",
      " max_pooling2d_9 (MaxPoolin  (None, 62, 62, 32)        0         \n",
      " g2D)                                                            \n",
      "                                                                 \n",
      " conv2d_10 (Conv2D)          (None, 60, 60, 64)        18496     \n",
      "                                                                 \n",
      " max_pooling2d_10 (MaxPooli  (None, 30, 30, 64)        0         \n",
      " ng2D)                                                           \n",
      "                                                                 \n",
      " conv2d_11 (Conv2D)          (None, 28, 28, 128)       73856     \n",
      "                                                                 \n",
      " max_pooling2d_11 (MaxPooli  (None, 14, 14, 128)       0         \n",
      " ng2D)                                                           \n",
      "                                                                 \n",
      " conv2d_12 (Conv2D)          (None, 12, 12, 256)       295168    \n",
      "                                                                 \n",
      " max_pooling2d_12 (MaxPooli  (None, 6, 6, 256)         0         \n",
      " ng2D)                                                           \n",
      "                                                                 \n",
      " flatten_3 (Flatten)         (None, 9216)              0         \n",
      "                                                                 \n",
      " dense_9 (Dense)             (None, 256)               2359552   \n",
      "                                                                 \n",
      " dropout_12 (Dropout)        (None, 256)               0         \n",
      "                                                                 \n",
      " dense_10 (Dense)            (None, 128)               32896     \n",
      "                                                                 \n",
      " dropout_13 (Dropout)        (None, 128)               0         \n",
      "                                                                 \n",
      " dense_11 (Dense)            (None, 64)                8256      \n",
      "                                                                 \n",
      " dropout_14 (Dropout)        (None, 64)                0         \n",
      "                                                                 \n",
      " dropout_15 (Dropout)        (None, 64)                0         \n",
      "                                                                 \n",
      " dropout_16 (Dropout)        (None, 64)                0         \n",
      "                                                                 \n",
      " dense_12 (Dense)            (None, 1)                 65        \n",
      "                                                                 \n",
      "=================================================================\n",
      "Total params: 2789121 (10.64 MB)\n",
      "Trainable params: 2789121 (10.64 MB)\n",
      "Non-trainable params: 0 (0.00 Byte)\n",
      "_________________________________________________________________\n"
     ]
    }
   ],
   "source": [
    "\n",
    "\n",
    "model = models.Sequential([\n",
    "    # CNN\n",
    "\n",
    "    # 32 filters with 3x3 kernels\n",
    "    layers.Conv2D(32, (5, 5), activation='relu', input_shape=(128, 128, 1)),\n",
    "    # 2x2 pool size so we downsample by 2\n",
    "    layers.MaxPooling2D((2, 2)),\n",
    "    layers.Conv2D(64, (3, 3), activation='relu'),\n",
    "    layers.MaxPooling2D((2, 2)),\n",
    "    layers.Conv2D(128, (3, 3), activation='relu'),\n",
    "    layers.MaxPooling2D((2, 2)),\n",
    "    layers.Conv2D(256, (3, 3), activation='relu'),\n",
    "    layers.MaxPooling2D((2, 2)),\n",
    "    \n",
    "    # Transform the output of the CNN (matrix) to a vector\n",
    "    layers.Flatten(),\n",
    "    \n",
    "    # DENSEEEE\n",
    "    layers.Dense(256, activation='relu'),\n",
    "    layers.Dropout(0.5),  # We don't really need that but it might help, idk\n",
    "\n",
    "    layers.Dense(128, activation='relu'),\n",
    "    layers.Dropout(0.3),  # We don't really need that but it might help, idk\n",
    "\n",
    "    layers.Dense(64, activation='relu'),\n",
    "    layers.Dropout(0.2), \n",
    "\n",
    "    layers.Dropout(0.32), \n",
    "    layers.Dropout(0.2), \n",
    "\n",
    "    layers.Dense(1, activation='sigmoid')  # Sigmoid so we can set a threshold\n",
    "])\n",
    "\n",
    "model.compile(optimizer='adam', # We can try different things here\n",
    "              loss='binary_crossentropy', # Here also we can try something different\n",
    "              metrics=['accuracy'])\n",
    "\n",
    "model.summary()\n"
   ]
  },
  {
   "cell_type": "markdown",
   "metadata": {},
   "source": [
    "### Train the model"
   ]
  },
  {
   "cell_type": "code",
   "execution_count": 10,
   "metadata": {},
   "outputs": [
    {
     "name": "stdout",
     "output_type": "stream",
     "text": [
      "Epoch 1/10\n"
     ]
    },
    {
     "name": "stdout",
     "output_type": "stream",
     "text": [
      "100/100 [==============================] - 30s 283ms/step - loss: 0.8467 - accuracy: 0.7298 - val_loss: 0.2833 - val_accuracy: 0.9000\n",
      "Epoch 2/10\n",
      "100/100 [==============================] - 29s 293ms/step - loss: 0.2234 - accuracy: 0.9486 - val_loss: 0.1230 - val_accuracy: 0.9681\n",
      "Epoch 3/10\n",
      "100/100 [==============================] - 31s 304ms/step - loss: 0.1738 - accuracy: 0.9574 - val_loss: 0.1227 - val_accuracy: 0.9638\n",
      "Epoch 4/10\n",
      "100/100 [==============================] - 30s 299ms/step - loss: 0.1679 - accuracy: 0.9599 - val_loss: 0.1336 - val_accuracy: 0.9681\n",
      "Epoch 5/10\n",
      "100/100 [==============================] - 31s 312ms/step - loss: 0.1593 - accuracy: 0.9567 - val_loss: 0.1340 - val_accuracy: 0.9617\n",
      "Epoch 6/10\n",
      "100/100 [==============================] - 32s 322ms/step - loss: 0.1528 - accuracy: 0.9596 - val_loss: 0.1377 - val_accuracy: 0.9532\n",
      "Epoch 7/10\n",
      "100/100 [==============================] - 33s 323ms/step - loss: 0.1213 - accuracy: 0.9693 - val_loss: 0.1496 - val_accuracy: 0.9532\n",
      "Epoch 8/10\n",
      "100/100 [==============================] - 33s 331ms/step - loss: 0.1346 - accuracy: 0.9643 - val_loss: 0.1043 - val_accuracy: 0.9723\n",
      "Epoch 9/10\n",
      "100/100 [==============================] - 32s 314ms/step - loss: 0.1506 - accuracy: 0.9627 - val_loss: 0.1364 - val_accuracy: 0.9596\n",
      "Epoch 10/10\n",
      "100/100 [==============================] - 32s 314ms/step - loss: 0.1496 - accuracy: 0.9614 - val_loss: 0.1605 - val_accuracy: 0.9511\n",
      "28/28 [==============================] - 3s 93ms/step - loss: 0.1692 - accuracy: 0.9475\n",
      "Test accuracy: 0.9475\n"
     ]
    }
   ],
   "source": [
    "# train_ds, val_ds, test_ds \n",
    "\n",
    "epochs = 10\n",
    "batch_size = 16\n",
    "\n",
    "# Train the shit out of it\n",
    "history = model.fit(\n",
    "    train_ds,\n",
    "    validation_data=val_ds,\n",
    "    epochs=epochs,\n",
    "    batch_size=batch_size\n",
    ")\n",
    "\n",
    "# Evaluate the model on the tes  t set\n",
    "test_loss, test_accuracy = model.evaluate(test_ds)\n",
    "print(f\"Test accuracy: {test_accuracy:.4f}\")\n",
    "\n"
   ]
  },
  {
   "cell_type": "code",
   "execution_count": 11,
   "metadata": {},
   "outputs": [
    {
     "data": {
      "image/png": "[encoded data removed]",
      "text/plain": [
       "<Figure size 640x480 with 1 Axes>"
      ]
     },
     "metadata": {},
     "output_type": "display_data"
    }
   ],
   "source": [
    "\n",
    "plt.plot(history.history['accuracy'], label='training accuracy')\n",
    "plt.plot(history.history['val_accuracy'], label='validation accuracy')\n",
    "plt.title('Model Accuracy')\n",
    "plt.xlabel('Epoch')\n",
    "plt.ylabel('Accuracy')\n",
    "plt.legend()\n",
    "plt.show()"
   ]
  },
  {
   "cell_type": "code",
   "execution_count": 12,
   "metadata": {},
   "outputs": [
    {
     "data": {
      "image/png": "[encoded data removed]",
      "text/plain": [
       "<Figure size 640x480 with 1 Axes>"
      ]
     },
     "metadata": {},
     "output_type": "display_data"
    }
   ],
   "source": [
    "plt.plot(history.history['loss'], label='True Loss')\n",
    "plt.plot(history.history['val_loss'], label='Validation Loss')\n",
    "plt.title('Model Loss')\n",
    "plt.xlabel('Epoch')\n",
    "plt.ylabel('Loss')\n",
    "plt.legend()\n",
    "plt.show()"
   ]
  },
  {
   "cell_type": "markdown",
   "metadata": {},
   "source": [
    "### Predicting"
   ]
  },
  {
   "cell_type": "code",
   "execution_count": 11,
   "metadata": {},
   "outputs": [
    {
     "name": "stdout",
     "output_type": "stream",
     "text": [
      "1/1 [==============================] - 0s 95ms/step\n",
      "The audio is predicted as FAKE.\n"
     ]
    }
   ],
   "source": [
    "# Fake\n",
    "\n",
    "test_image_path = 'data/IMAGES/FAKE_IMG/biden-to-margot_1.png'\n",
    "test_image = cv2.imread(test_image_path, cv2.IMREAD_GRAYSCALE) # again, grayscale\n",
    "test_image = cv2.resize(test_image, (128, 128))\n",
    "test_image = np.expand_dims(test_image, axis=0) # batch dimension\n",
    "\n",
    "\n",
    "prediction = model.predict(test_image)\n",
    "\n",
    "if prediction[0][0] >= 0.5: # the sensitivity can be changed\n",
    "    print(\"The audio is predicted as REAL.\")\n",
    "else:\n",
    "    print(\"The audio is predicted as FAKE.\")\n"
   ]
  },
  {
   "cell_type": "code",
   "execution_count": 12,
   "metadata": {},
   "outputs": [
    {
     "name": "stdout",
     "output_type": "stream",
     "text": [
      "1/1 [==============================] - 0s 22ms/step\n",
      "The audio is predicted as REAL.\n"
     ]
    }
   ],
   "source": [
    "# Real\n",
    "\n",
    "test_image_path = 'data/IMAGES/REAL_IMG/biden-original_0.png'\n",
    "test_image = cv2.imread(test_image_path, cv2.IMREAD_GRAYSCALE) # again, grayscale\n",
    "test_image = cv2.resize(test_image, (128, 128))\n",
    "test_image = np.expand_dims(test_image, axis=0) # batch dimension\n",
    "\n",
    "\n",
    "prediction = model.predict(test_image)\n",
    "\n",
    "if prediction[0][0] >= 0.5: # the sensitivity can be changed but I don't see why\n",
    "    print(\"The audio is predicted as REAL.\")\n",
    "else:\n",
    "    print(\"The audio is predicted as FAKE.\")\n"
   ]
  }
 ],
 "metadata": {
  "kernelspec": {
   "display_name": "ml01",
   "language": "python",
   "name": "python3"
  },
  "language_info": {
   "codemirror_mode": {
    "name": "ipython",
    "version": 3
   },
   "file_extension": ".py",
   "mimetype": "text/x-python",
   "name": "python",
   "nbconvert_exporter": "python",
   "pygments_lexer": "ipython3",
   "version": "3.10.13"
  }
 },
 "nbformat": 4,
 "nbformat_minor": 2
}
