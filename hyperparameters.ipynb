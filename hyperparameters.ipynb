{
 "cells": [
  {
   "cell_type": "markdown",
   "metadata": {},
   "source": [
    "# Amazing ML journey with Stan    \n",
    "Welcome! Let me show you around on this amazing experience.   \n",
    "FOR THE LOVE OF GOD DO NOT JUST RUN THE WHOLE THING!    \n"
   ]
  },
  {
   "cell_type": "markdown",
   "metadata": {},
   "source": [
    "## 1. Data processing"
   ]
  },
  {
   "cell_type": "markdown",
   "metadata": {},
   "source": [
    "#### The path    \n",
    "First, make sure that you have created a .py file containing variable AUDIO_DATA_PATH with the path to the audio data, pointing to AUDIO."
   ]
  },
  {
   "cell_type": "code",
   "execution_count": 1,
   "metadata": {},
   "outputs": [
    {
     "name": "stdout",
     "output_type": "stream",
     "text": [
      "data/AUDIO\n"
     ]
    }
   ],
   "source": [
    "import paths\n",
    "# Create a .py file containing variable AUDIO_DATA_PATH with the path to the audio data, pointing to AUDIO\n",
    "AUDIO_DATA_PATH = paths.AUDIO_DATA_PATH\n",
    "print(AUDIO_DATA_PATH)\n",
    "# The structure of the data folder should be as follows:\n",
    "\n",
    "#         ↓   The path should be pointing to this folder\n",
    "# data/AUDIO/\n",
    "#           FAKE\n",
    "#           REAL"
   ]
  },
  {
   "cell_type": "markdown",
   "metadata": {},
   "source": [
    "### Imports"
   ]
  },
  {
   "cell_type": "code",
   "execution_count": 2,
   "metadata": {},
   "outputs": [
    {
     "name": "stderr",
     "output_type": "stream",
     "text": [
      "c:\\Users\\wasil\\anaconda3\\envs\\ml01\\lib\\site-packages\\pydub\\utils.py:170: RuntimeWarning: Couldn't find ffmpeg or avconv - defaulting to ffmpeg, but may not work\n",
      "  warn(\"Couldn't find ffmpeg or avconv - defaulting to ffmpeg, but may not work\", RuntimeWarning)\n"
     ]
    }
   ],
   "source": [
    "# Imports go brrrrrr\n",
    "import os\n",
    "import pathlib\n",
    "\n",
    "import matplotlib.pyplot as plt\n",
    "import numpy as np\n",
    "import tensorflow as tf\n",
    "import keras\n",
    "import wave\n",
    "import cv2\n",
    "import matplotlib.pyplot as plt\n",
    "import sklearn\n",
    "import scipy.io.wavfile as wav\n",
    "\n",
    "from keras import layers\n",
    "from keras import models\n",
    "from IPython import display\n",
    "from pydub import AudioSegment\n",
    "\n",
    "from sklearn.model_selection import learning_curve\n",
    "from sklearn.model_selection import train_test_split\n"
   ]
  },
  {
   "cell_type": "markdown",
   "metadata": {},
   "source": [
    "## 2. Model training"
   ]
  },
  {
   "cell_type": "markdown",
   "metadata": {},
   "source": [
    "### Splitting data into train, test, and validation sets"
   ]
  },
  {
   "cell_type": "code",
   "execution_count": 3,
   "metadata": {},
   "outputs": [
    {
     "name": "stdout",
     "output_type": "stream",
     "text": [
      "Found 4556 files belonging to 2 classes.\n",
      "Using 3190 files for training.\n",
      "Found 4556 files belonging to 2 classes.\n",
      "Using 1366 files for validation.\n"
     ]
    }
   ],
   "source": [
    "image_size = (128, 128)\n",
    "validation_split = 0.3\n",
    "seed_train_validation = 1\n",
    "shuffle_value = True\n",
    "\n",
    "train_ds = tf.keras.utils.image_dataset_from_directory(\n",
    "    directory='data/IMAGES',\n",
    "    image_size=image_size,\n",
    "    validation_split=validation_split,\n",
    "    subset=\"training\",\n",
    "    seed=seed_train_validation,\n",
    "    color_mode='grayscale', # normal matrix multiplication is hard enough\n",
    "    shuffle=shuffle_value\n",
    ")\n",
    "\n",
    "val_ds = tf.keras.utils.image_dataset_from_directory(\n",
    "    directory='data/IMAGES',\n",
    "    image_size=image_size,\n",
    "    validation_split=validation_split,\n",
    "    subset=\"validation\",\n",
    "    seed=seed_train_validation,\n",
    "    color_mode='grayscale',\n",
    "    shuffle=shuffle_value\n",
    ")\n",
    "\n",
    "# number of batches in the validation set\n",
    "val_batches = tf.data.experimental.cardinality(val_ds)\n",
    "\n",
    "# split validation into test and validation sets\n",
    "test_ds = val_ds.take((2 * val_batches) // 3)\n",
    "val_ds = val_ds.skip((2 * val_batches) // 3)\n",
    "\n"
   ]
  },
  {
   "cell_type": "markdown",
   "metadata": {},
   "source": [
    "## Construct the model\n",
    "\n"
   ]
  },
  {
   "cell_type": "code",
   "execution_count": 4,
   "metadata": {},
   "outputs": [
    {
     "name": "stdout",
     "output_type": "stream",
     "text": [
      "Model: \"sequential\"\n",
      "_________________________________________________________________\n",
      " Layer (type)                Output Shape              Param #   \n",
      "=================================================================\n",
      " conv2d (Conv2D)             (None, 124, 124, 32)      832       \n",
      "                                                                 \n",
      " max_pooling2d (MaxPooling2  (None, 62, 62, 32)        0         \n",
      " D)                                                              \n",
      "                                                                 \n",
      " conv2d_1 (Conv2D)           (None, 60, 60, 64)        18496     \n",
      "                                                                 \n",
      " max_pooling2d_1 (MaxPoolin  (None, 30, 30, 64)        0         \n",
      " g2D)                                                            \n",
      "                                                                 \n",
      " conv2d_2 (Conv2D)           (None, 28, 28, 128)       73856     \n",
      "                                                                 \n",
      " max_pooling2d_2 (MaxPoolin  (None, 14, 14, 128)       0         \n",
      " g2D)                                                            \n",
      "                                                                 \n",
      " conv2d_3 (Conv2D)           (None, 12, 12, 256)       295168    \n",
      "                                                                 \n",
      " max_pooling2d_3 (MaxPoolin  (None, 6, 6, 256)         0         \n",
      " g2D)                                                            \n",
      "                                                                 \n",
      " flatten (Flatten)           (None, 9216)              0         \n",
      "                                                                 \n",
      " dense (Dense)               (None, 256)               2359552   \n",
      "                                                                 \n",
      " dropout (Dropout)           (None, 256)               0         \n",
      "                                                                 \n",
      " dense_1 (Dense)             (None, 128)               32896     \n",
      "                                                                 \n",
      " dropout_1 (Dropout)         (None, 128)               0         \n",
      "                                                                 \n",
      " dense_2 (Dense)             (None, 64)                8256      \n",
      "                                                                 \n",
      " dropout_2 (Dropout)         (None, 64)                0         \n",
      "                                                                 \n",
      " dropout_3 (Dropout)         (None, 64)                0         \n",
      "                                                                 \n",
      " dropout_4 (Dropout)         (None, 64)                0         \n",
      "                                                                 \n",
      " dense_3 (Dense)             (None, 1)                 65        \n",
      "                                                                 \n",
      "=================================================================\n",
      "Total params: 2789121 (10.64 MB)\n",
      "Trainable params: 2789121 (10.64 MB)\n",
      "Non-trainable params: 0 (0.00 Byte)\n",
      "_________________________________________________________________\n"
     ]
    }
   ],
   "source": [
    "\n",
    "\n",
    "model = models.Sequential([\n",
    "    # CNN\n",
    "\n",
    "    # 32 filters with 3x3 kernels\n",
    "    layers.Conv2D(32, (5, 5), activation='relu', input_shape=(128, 128, 1)),\n",
    "    # 2x2 pool size so we downsample by 2\n",
    "    layers.MaxPooling2D((2, 2)),\n",
    "    layers.Conv2D(64, (3, 3), activation='relu'),\n",
    "    layers.MaxPooling2D((2, 2)),\n",
    "    layers.Conv2D(128, (3, 3), activation='relu'),\n",
    "    layers.MaxPooling2D((2, 2)),\n",
    "    layers.Conv2D(256, (3, 3), activation='relu'),\n",
    "    layers.MaxPooling2D((2, 2)),\n",
    "    \n",
    "    # Transform the output of the CNN (matrix) to a vector\n",
    "    layers.Flatten(),\n",
    "    \n",
    "    # DENSEEEE\n",
    "    layers.Dense(256, activation='relu'),\n",
    "    layers.Dropout(0.5),  # We don't really need that but it might help, idk\n",
    "\n",
    "    layers.Dense(128, activation='relu'),\n",
    "    layers.Dropout(0.3),  # We don't really need that but it might help, idk\n",
    "\n",
    "    layers.Dense(64, activation='relu'),\n",
    "    layers.Dropout(0.2), \n",
    "\n",
    "    layers.Dropout(0.32), \n",
    "    layers.Dropout(0.2), \n",
    "\n",
    "    layers.Dense(1, activation='sigmoid')  # Sigmoid so we can set a threshold\n",
    "])\n",
    "\n",
    "optimizer = keras.optimizers.Adam(learning_rate=0.0001) # We can set the learning rate here\n",
    "model.compile(optimizer=optimizer, # We can try different things here\n",
    "              loss='binary_crossentropy', # Here also we can try something different\n",
    "              metrics=['accuracy'])\n",
    "\n",
    "model.summary()\n"
   ]
  },
  {
   "cell_type": "markdown",
   "metadata": {},
   "source": [
    "### Train the model"
   ]
  },
  {
   "cell_type": "code",
   "execution_count": 5,
   "metadata": {},
   "outputs": [
    {
     "name": "stdout",
     "output_type": "stream",
     "text": [
      "Epoch 1/100\n"
     ]
    },
    {
     "name": "stdout",
     "output_type": "stream",
     "text": [
      "100/100 [==============================] - 42s 399ms/step - loss: 1.1407 - accuracy: 0.6138 - val_loss: 0.4516 - val_accuracy: 0.9298\n",
      "Epoch 2/100\n",
      "100/100 [==============================] - 40s 399ms/step - loss: 0.4448 - accuracy: 0.8088 - val_loss: 0.2382 - val_accuracy: 0.9426\n",
      "Epoch 3/100\n",
      "100/100 [==============================] - 40s 397ms/step - loss: 0.3210 - accuracy: 0.8900 - val_loss: 0.1486 - val_accuracy: 0.9681\n",
      "Epoch 4/100\n",
      "100/100 [==============================] - 41s 411ms/step - loss: 0.2561 - accuracy: 0.9169 - val_loss: 0.1609 - val_accuracy: 0.9638\n",
      "Epoch 5/100\n",
      "100/100 [==============================] - 41s 409ms/step - loss: 0.2291 - accuracy: 0.9298 - val_loss: 0.1112 - val_accuracy: 0.9681\n",
      "Epoch 6/100\n",
      "100/100 [==============================] - 42s 418ms/step - loss: 0.2022 - accuracy: 0.9451 - val_loss: 0.1205 - val_accuracy: 0.9617\n",
      "Epoch 7/100\n",
      "100/100 [==============================] - 40s 400ms/step - loss: 0.1795 - accuracy: 0.9539 - val_loss: 0.1400 - val_accuracy: 0.9681\n",
      "Epoch 8/100\n",
      "100/100 [==============================] - 40s 394ms/step - loss: 0.1589 - accuracy: 0.9561 - val_loss: 0.1167 - val_accuracy: 0.9596\n",
      "Epoch 9/100\n",
      "100/100 [==============================] - 40s 395ms/step - loss: 0.1284 - accuracy: 0.9618 - val_loss: 0.0887 - val_accuracy: 0.9723\n",
      "Epoch 10/100\n",
      "100/100 [==============================] - 39s 392ms/step - loss: 0.1180 - accuracy: 0.9639 - val_loss: 0.0774 - val_accuracy: 0.9723\n",
      "Epoch 11/100\n",
      "100/100 [==============================] - 39s 391ms/step - loss: 0.1133 - accuracy: 0.9649 - val_loss: 0.0882 - val_accuracy: 0.9702\n",
      "Epoch 12/100\n",
      "100/100 [==============================] - 39s 390ms/step - loss: 0.0958 - accuracy: 0.9649 - val_loss: 0.0881 - val_accuracy: 0.9617\n",
      "Epoch 13/100\n",
      "100/100 [==============================] - 40s 396ms/step - loss: 0.0841 - accuracy: 0.9702 - val_loss: 0.0660 - val_accuracy: 0.9745\n",
      "Epoch 14/100\n",
      "100/100 [==============================] - 40s 394ms/step - loss: 0.0801 - accuracy: 0.9696 - val_loss: 0.0565 - val_accuracy: 0.9723\n",
      "Epoch 15/100\n",
      "100/100 [==============================] - 39s 391ms/step - loss: 0.0674 - accuracy: 0.9759 - val_loss: 0.0556 - val_accuracy: 0.9702\n",
      "Epoch 16/100\n",
      "100/100 [==============================] - 39s 388ms/step - loss: 0.0611 - accuracy: 0.9752 - val_loss: 0.0477 - val_accuracy: 0.9745\n",
      "Epoch 17/100\n",
      "100/100 [==============================] - 39s 390ms/step - loss: 0.0534 - accuracy: 0.9777 - val_loss: 0.0574 - val_accuracy: 0.9702\n",
      "Epoch 18/100\n",
      "100/100 [==============================] - 37s 368ms/step - loss: 0.0435 - accuracy: 0.9843 - val_loss: 0.0236 - val_accuracy: 0.9936\n",
      "Epoch 19/100\n",
      "100/100 [==============================] - 32s 319ms/step - loss: 0.0490 - accuracy: 0.9803 - val_loss: 0.0277 - val_accuracy: 0.9936\n",
      "Epoch 20/100\n",
      "100/100 [==============================] - 31s 310ms/step - loss: 0.0426 - accuracy: 0.9821 - val_loss: 0.0303 - val_accuracy: 0.9894\n",
      "Epoch 21/100\n",
      "100/100 [==============================] - 32s 318ms/step - loss: 0.0596 - accuracy: 0.9787 - val_loss: 0.0514 - val_accuracy: 0.9745\n",
      "Epoch 22/100\n",
      "100/100 [==============================] - 33s 330ms/step - loss: 0.0365 - accuracy: 0.9862 - val_loss: 0.0223 - val_accuracy: 0.9851\n",
      "Epoch 23/100\n",
      "100/100 [==============================] - 36s 359ms/step - loss: 0.0352 - accuracy: 0.9868 - val_loss: 0.0176 - val_accuracy: 0.9936\n",
      "Epoch 24/100\n",
      "100/100 [==============================] - 34s 337ms/step - loss: 0.0220 - accuracy: 0.9906 - val_loss: 0.0238 - val_accuracy: 0.9872\n",
      "Epoch 25/100\n",
      "100/100 [==============================] - 32s 317ms/step - loss: 0.0209 - accuracy: 0.9925 - val_loss: 0.0091 - val_accuracy: 0.9979\n",
      "Epoch 26/100\n",
      "100/100 [==============================] - 33s 329ms/step - loss: 0.0204 - accuracy: 0.9925 - val_loss: 0.0612 - val_accuracy: 0.9766\n",
      "Epoch 27/100\n",
      "100/100 [==============================] - 36s 358ms/step - loss: 0.0199 - accuracy: 0.9925 - val_loss: 0.0036 - val_accuracy: 1.0000\n",
      "Epoch 28/100\n",
      "100/100 [==============================] - 37s 367ms/step - loss: 0.0181 - accuracy: 0.9931 - val_loss: 0.0650 - val_accuracy: 0.9660\n",
      "Epoch 29/100\n",
      "100/100 [==============================] - 36s 361ms/step - loss: 0.0437 - accuracy: 0.9824 - val_loss: 0.0323 - val_accuracy: 0.9957\n",
      "Epoch 30/100\n",
      "100/100 [==============================] - 34s 334ms/step - loss: 0.0300 - accuracy: 0.9875 - val_loss: 0.0131 - val_accuracy: 1.0000\n",
      "Epoch 31/100\n",
      "100/100 [==============================] - 34s 334ms/step - loss: 0.0357 - accuracy: 0.9881 - val_loss: 0.0334 - val_accuracy: 0.9851\n",
      "Epoch 32/100\n",
      "100/100 [==============================] - 33s 332ms/step - loss: 0.0153 - accuracy: 0.9962 - val_loss: 0.0115 - val_accuracy: 0.9979\n",
      "Epoch 33/100\n",
      "100/100 [==============================] - 34s 334ms/step - loss: 0.0121 - accuracy: 0.9969 - val_loss: 0.0034 - val_accuracy: 1.0000\n",
      "Epoch 34/100\n",
      "100/100 [==============================] - 34s 334ms/step - loss: 0.0177 - accuracy: 0.9944 - val_loss: 0.0110 - val_accuracy: 0.9957\n",
      "Epoch 35/100\n",
      "100/100 [==============================] - 34s 339ms/step - loss: 0.0085 - accuracy: 0.9981 - val_loss: 9.6665e-04 - val_accuracy: 1.0000\n",
      "Epoch 36/100\n",
      "100/100 [==============================] - 34s 334ms/step - loss: 0.0125 - accuracy: 0.9950 - val_loss: 0.0166 - val_accuracy: 0.9915\n",
      "Epoch 37/100\n",
      "100/100 [==============================] - 34s 336ms/step - loss: 0.0805 - accuracy: 0.9752 - val_loss: 0.0387 - val_accuracy: 0.9830\n",
      "Epoch 38/100\n",
      "100/100 [==============================] - 34s 333ms/step - loss: 0.0184 - accuracy: 0.9934 - val_loss: 0.0276 - val_accuracy: 0.9872\n",
      "Epoch 39/100\n",
      "100/100 [==============================] - 34s 333ms/step - loss: 0.0168 - accuracy: 0.9956 - val_loss: 0.0165 - val_accuracy: 0.9915\n",
      "Epoch 40/100\n",
      "100/100 [==============================] - 34s 334ms/step - loss: 0.0094 - accuracy: 0.9962 - val_loss: 0.0049 - val_accuracy: 0.9979\n",
      "Epoch 41/100\n",
      "100/100 [==============================] - 34s 333ms/step - loss: 0.0077 - accuracy: 0.9972 - val_loss: 0.0020 - val_accuracy: 1.0000\n",
      "Epoch 42/100\n",
      "100/100 [==============================] - 34s 333ms/step - loss: 0.0051 - accuracy: 0.9975 - val_loss: 0.0024 - val_accuracy: 0.9979\n",
      "Epoch 43/100\n",
      "100/100 [==============================] - 34s 334ms/step - loss: 0.0079 - accuracy: 0.9962 - val_loss: 0.0111 - val_accuracy: 0.9957\n",
      "Epoch 44/100\n",
      "100/100 [==============================] - 34s 333ms/step - loss: 0.0059 - accuracy: 0.9975 - val_loss: 0.0045 - val_accuracy: 0.9979\n",
      "Epoch 45/100\n",
      "100/100 [==============================] - 33s 332ms/step - loss: 0.0044 - accuracy: 0.9987 - val_loss: 7.8830e-04 - val_accuracy: 1.0000\n",
      "Epoch 46/100\n",
      "100/100 [==============================] - 33s 332ms/step - loss: 0.0089 - accuracy: 0.9972 - val_loss: 0.0113 - val_accuracy: 0.9957\n",
      "Epoch 47/100\n",
      "100/100 [==============================] - 33s 332ms/step - loss: 0.0170 - accuracy: 0.9956 - val_loss: 0.0043 - val_accuracy: 0.9979\n",
      "Epoch 48/100\n",
      "100/100 [==============================] - 33s 332ms/step - loss: 0.0084 - accuracy: 0.9966 - val_loss: 0.0097 - val_accuracy: 0.9979\n",
      "Epoch 49/100\n",
      "100/100 [==============================] - 34s 333ms/step - loss: 0.0089 - accuracy: 0.9972 - val_loss: 0.0048 - val_accuracy: 1.0000\n",
      "Epoch 50/100\n",
      "100/100 [==============================] - 34s 335ms/step - loss: 0.0051 - accuracy: 0.9966 - val_loss: 0.0067 - val_accuracy: 0.9979\n",
      "Epoch 51/100\n",
      "100/100 [==============================] - 33s 332ms/step - loss: 0.0047 - accuracy: 0.9966 - val_loss: 0.0220 - val_accuracy: 0.9936\n",
      "Epoch 52/100\n",
      "100/100 [==============================] - 34s 342ms/step - loss: 0.0038 - accuracy: 0.9987 - val_loss: 0.0021 - val_accuracy: 1.0000\n",
      "Epoch 53/100\n",
      "100/100 [==============================] - 33s 330ms/step - loss: 0.0016 - accuracy: 0.9997 - val_loss: 2.1939e-04 - val_accuracy: 1.0000\n",
      "Epoch 54/100\n",
      "100/100 [==============================] - 31s 309ms/step - loss: 0.0020 - accuracy: 0.9994 - val_loss: 7.5275e-05 - val_accuracy: 1.0000\n",
      "Epoch 55/100\n",
      "100/100 [==============================] - 31s 309ms/step - loss: 0.0023 - accuracy: 0.9991 - val_loss: 0.0028 - val_accuracy: 0.9979\n",
      "Epoch 56/100\n",
      "100/100 [==============================] - 31s 308ms/step - loss: 0.0105 - accuracy: 0.9959 - val_loss: 5.2734e-04 - val_accuracy: 1.0000\n",
      "Epoch 57/100\n",
      "100/100 [==============================] - 31s 309ms/step - loss: 0.0055 - accuracy: 0.9984 - val_loss: 8.6511e-05 - val_accuracy: 1.0000\n",
      "Epoch 58/100\n",
      "100/100 [==============================] - 31s 308ms/step - loss: 0.0019 - accuracy: 0.9997 - val_loss: 4.8084e-05 - val_accuracy: 1.0000\n",
      "Epoch 59/100\n",
      "100/100 [==============================] - 31s 311ms/step - loss: 0.0059 - accuracy: 0.9972 - val_loss: 0.0019 - val_accuracy: 1.0000\n",
      "Epoch 60/100\n",
      "100/100 [==============================] - 31s 309ms/step - loss: 0.0049 - accuracy: 0.9984 - val_loss: 9.2352e-04 - val_accuracy: 1.0000\n",
      "Epoch 61/100\n",
      "100/100 [==============================] - 31s 309ms/step - loss: 0.0036 - accuracy: 0.9981 - val_loss: 0.0091 - val_accuracy: 0.9957\n",
      "Epoch 62/100\n",
      "100/100 [==============================] - 31s 308ms/step - loss: 0.0245 - accuracy: 0.9931 - val_loss: 0.0496 - val_accuracy: 0.9851\n",
      "Epoch 63/100\n",
      "100/100 [==============================] - 31s 311ms/step - loss: 0.0203 - accuracy: 0.9947 - val_loss: 0.0027 - val_accuracy: 0.9979\n",
      "Epoch 64/100\n",
      "100/100 [==============================] - 31s 309ms/step - loss: 0.0108 - accuracy: 0.9959 - val_loss: 0.0018 - val_accuracy: 0.9979\n",
      "Epoch 65/100\n",
      "100/100 [==============================] - 31s 309ms/step - loss: 0.0028 - accuracy: 0.9987 - val_loss: 0.0020 - val_accuracy: 1.0000\n",
      "Epoch 66/100\n",
      "100/100 [==============================] - 31s 309ms/step - loss: 0.0021 - accuracy: 0.9994 - val_loss: 1.2918e-04 - val_accuracy: 1.0000\n",
      "Epoch 67/100\n",
      "100/100 [==============================] - 31s 309ms/step - loss: 0.0016 - accuracy: 0.9994 - val_loss: 0.0012 - val_accuracy: 1.0000\n",
      "Epoch 68/100\n",
      "100/100 [==============================] - 31s 308ms/step - loss: 0.0035 - accuracy: 0.9987 - val_loss: 0.0058 - val_accuracy: 0.9979\n",
      "Epoch 69/100\n",
      "100/100 [==============================] - 31s 308ms/step - loss: 0.0033 - accuracy: 0.9994 - val_loss: 1.2298e-04 - val_accuracy: 1.0000\n",
      "Epoch 70/100\n",
      "100/100 [==============================] - 31s 308ms/step - loss: 0.0012 - accuracy: 0.9997 - val_loss: 0.0010 - val_accuracy: 1.0000\n",
      "Epoch 71/100\n",
      "100/100 [==============================] - 31s 308ms/step - loss: 0.0063 - accuracy: 0.9981 - val_loss: 0.0182 - val_accuracy: 0.9936\n",
      "Epoch 72/100\n",
      "100/100 [==============================] - 31s 308ms/step - loss: 0.0153 - accuracy: 0.9962 - val_loss: 4.2545e-04 - val_accuracy: 1.0000\n",
      "Epoch 73/100\n",
      "100/100 [==============================] - 31s 309ms/step - loss: 0.0014 - accuracy: 0.9997 - val_loss: 0.0047 - val_accuracy: 0.9979\n",
      "Epoch 74/100\n",
      "100/100 [==============================] - 31s 307ms/step - loss: 0.0013 - accuracy: 0.9997 - val_loss: 4.3680e-04 - val_accuracy: 1.0000\n",
      "Epoch 75/100\n",
      "100/100 [==============================] - 31s 309ms/step - loss: 7.9984e-04 - accuracy: 0.9997 - val_loss: 8.0042e-06 - val_accuracy: 1.0000\n",
      "Epoch 76/100\n",
      "100/100 [==============================] - 31s 308ms/step - loss: 0.0172 - accuracy: 0.9959 - val_loss: 0.0091 - val_accuracy: 0.9979\n",
      "Epoch 77/100\n",
      "100/100 [==============================] - 31s 309ms/step - loss: 0.0047 - accuracy: 0.9987 - val_loss: 0.0043 - val_accuracy: 0.9979\n",
      "Epoch 78/100\n",
      "100/100 [==============================] - 31s 308ms/step - loss: 8.0710e-04 - accuracy: 0.9997 - val_loss: 0.0016 - val_accuracy: 1.0000\n",
      "Epoch 79/100\n",
      "100/100 [==============================] - 31s 309ms/step - loss: 0.0134 - accuracy: 0.9959 - val_loss: 0.0026 - val_accuracy: 1.0000\n",
      "Epoch 80/100\n",
      "100/100 [==============================] - 31s 308ms/step - loss: 0.0056 - accuracy: 0.9987 - val_loss: 6.5502e-04 - val_accuracy: 1.0000\n",
      "Epoch 81/100\n",
      "100/100 [==============================] - 31s 309ms/step - loss: 0.0065 - accuracy: 0.9987 - val_loss: 1.6334e-04 - val_accuracy: 1.0000\n",
      "Epoch 82/100\n",
      "100/100 [==============================] - 32s 319ms/step - loss: 0.0122 - accuracy: 0.9953 - val_loss: 0.0095 - val_accuracy: 0.9957\n",
      "Epoch 83/100\n",
      "100/100 [==============================] - 34s 341ms/step - loss: 0.0039 - accuracy: 0.9984 - val_loss: 2.0061e-04 - val_accuracy: 1.0000\n",
      "Epoch 84/100\n",
      "100/100 [==============================] - 33s 329ms/step - loss: 0.0012 - accuracy: 0.9997 - val_loss: 0.0069 - val_accuracy: 0.9957\n",
      "Epoch 85/100\n",
      "100/100 [==============================] - 33s 330ms/step - loss: 0.0011 - accuracy: 0.9997 - val_loss: 0.0025 - val_accuracy: 0.9979\n",
      "Epoch 86/100\n",
      "100/100 [==============================] - 31s 307ms/step - loss: 0.0011 - accuracy: 0.9997 - val_loss: 0.0014 - val_accuracy: 1.0000\n",
      "Epoch 87/100\n",
      "100/100 [==============================] - 31s 308ms/step - loss: 0.0055 - accuracy: 0.9981 - val_loss: 0.0111 - val_accuracy: 0.9957\n",
      "Epoch 88/100\n",
      "100/100 [==============================] - 31s 307ms/step - loss: 0.0030 - accuracy: 0.9997 - val_loss: 5.1799e-05 - val_accuracy: 1.0000\n",
      "Epoch 89/100\n",
      "100/100 [==============================] - 31s 307ms/step - loss: 0.0176 - accuracy: 0.9950 - val_loss: 0.0034 - val_accuracy: 0.9979\n",
      "Epoch 90/100\n",
      "100/100 [==============================] - 31s 306ms/step - loss: 0.0024 - accuracy: 0.9994 - val_loss: 0.0071 - val_accuracy: 0.9979\n",
      "Epoch 91/100\n",
      "100/100 [==============================] - 31s 307ms/step - loss: 0.0024 - accuracy: 0.9994 - val_loss: 6.0082e-04 - val_accuracy: 1.0000\n",
      "Epoch 92/100\n",
      "100/100 [==============================] - 31s 310ms/step - loss: 0.0117 - accuracy: 0.9956 - val_loss: 0.0051 - val_accuracy: 0.9979\n",
      "Epoch 93/100\n",
      "100/100 [==============================] - 31s 308ms/step - loss: 0.0068 - accuracy: 0.9984 - val_loss: 0.0012 - val_accuracy: 1.0000\n",
      "Epoch 94/100\n",
      "100/100 [==============================] - 31s 308ms/step - loss: 0.0065 - accuracy: 0.9975 - val_loss: 6.6501e-04 - val_accuracy: 1.0000\n",
      "Epoch 95/100\n",
      "100/100 [==============================] - 31s 309ms/step - loss: 0.0020 - accuracy: 0.9997 - val_loss: 0.0055 - val_accuracy: 0.9979\n",
      "Epoch 96/100\n",
      "100/100 [==============================] - 31s 309ms/step - loss: 0.0084 - accuracy: 0.9962 - val_loss: 0.0109 - val_accuracy: 0.9936\n",
      "Epoch 97/100\n",
      "100/100 [==============================] - 31s 308ms/step - loss: 0.0011 - accuracy: 1.0000 - val_loss: 0.0049 - val_accuracy: 0.9979\n",
      "Epoch 98/100\n",
      "100/100 [==============================] - 31s 309ms/step - loss: 0.0161 - accuracy: 0.9950 - val_loss: 0.0081 - val_accuracy: 0.9979\n",
      "Epoch 99/100\n",
      "100/100 [==============================] - 31s 309ms/step - loss: 0.0062 - accuracy: 0.9984 - val_loss: 0.0202 - val_accuracy: 0.9915\n",
      "Epoch 100/100\n",
      "100/100 [==============================] - 31s 309ms/step - loss: 0.0023 - accuracy: 0.9991 - val_loss: 1.2647e-04 - val_accuracy: 1.0000\n",
      "28/28 [==============================] - 3s 93ms/step - loss: 3.1755e-04 - accuracy: 1.0000\n",
      "Test accuracy: 1.0000\n"
     ]
    }
   ],
   "source": [
    "# train_ds, val_ds, test_ds \n",
    "\n",
    "epochs = 100\n",
    "batch_size = 32\n",
    "\n",
    "# Train the shit out of it\n",
    "history = model.fit(\n",
    "    train_ds,\n",
    "    validation_data=val_ds,\n",
    "    epochs=epochs,\n",
    "    batch_size=batch_size\n",
    ")\n",
    "\n",
    "# Evaluate the model on the tes  t set\n",
    "test_loss, test_accuracy = model.evaluate(test_ds)\n",
    "print(f\"Test accuracy: {test_accuracy:.4f}\")\n",
    "\n"
   ]
  },
  {
   "cell_type": "code",
   "execution_count": 10,
   "metadata": {},
   "outputs": [
    {
     "data": {
      "image/png": "[encoded data removed]",
      "text/plain": [
       "<Figure size 640x480 with 1 Axes>"
      ]
     },
     "metadata": {},
     "output_type": "display_data"
    }
   ],
   "source": [
    "\n",
    "plt.plot(history.history['accuracy'], label='training accuracy')\n",
    "plt.plot(history.history['val_accuracy'], label='validation accuracy')\n",
    "plt.title('Model Accuracy')\n",
    "plt.xlabel('Epoch')\n",
    "plt.ylabel('Accuracy')\n",
    "plt.legend()\n",
    "plt.show()"
   ]
  },
  {
   "cell_type": "code",
   "execution_count": 11,
   "metadata": {},
   "outputs": [
    {
     "data": {
      "image/png": "[encoded data removed]",
      "text/plain": [
       "<Figure size 640x480 with 1 Axes>"
      ]
     },
     "metadata": {},
     "output_type": "display_data"
    }
   ],
   "source": [
    "plt.plot(history.history['loss'], label='True Loss')\n",
    "plt.plot(history.history['val_loss'], label='Validation Loss')\n",
    "plt.title('Model Loss')\n",
    "plt.xlabel('Epoch')\n",
    "plt.ylabel('Loss')\n",
    "plt.legend()\n",
    "plt.show()"
   ]
  },
  {
   "cell_type": "markdown",
   "metadata": {},
   "source": [
    "### Predicting"
   ]
  },
  {
   "cell_type": "code",
   "execution_count": 12,
   "metadata": {},
   "outputs": [
    {
     "name": "stdout",
     "output_type": "stream",
     "text": [
      "1/1 [==============================] - 0s 26ms/step\n",
      "The audio is predicted as FAKE.\n"
     ]
    }
   ],
   "source": [
    "# Fake\n",
    "\n",
    "test_image_path = 'data/IMAGES/FAKE_IMG/biden-to-margot_1.png'\n",
    "test_image = cv2.imread(test_image_path, cv2.IMREAD_GRAYSCALE) # again, grayscale\n",
    "test_image = cv2.resize(test_image, (128, 128))\n",
    "test_image = np.expand_dims(test_image, axis=0) # batch dimension\n",
    "\n",
    "\n",
    "prediction = model.predict(test_image)\n",
    "\n",
    "if prediction[0][0] >= 0.5: # the sensitivity can be changed\n",
    "    print(\"The audio is predicted as REAL.\")\n",
    "else:\n",
    "    print(\"The audio is predicted as FAKE.\")\n"
   ]
  },
  {
   "cell_type": "code",
   "execution_count": 13,
   "metadata": {},
   "outputs": [
    {
     "name": "stdout",
     "output_type": "stream",
     "text": [
      "1/1 [==============================] - 0s 26ms/step\n",
      "The audio is predicted as REAL.\n"
     ]
    }
   ],
   "source": [
    "# Real\n",
    "\n",
    "test_image_path = 'data/IMAGES/REAL_IMG/biden-original_0.png'\n",
    "test_image = cv2.imread(test_image_path, cv2.IMREAD_GRAYSCALE) # again, grayscale\n",
    "test_image = cv2.resize(test_image, (128, 128))\n",
    "test_image = np.expand_dims(test_image, axis=0) # batch dimension\n",
    "\n",
    "\n",
    "prediction = model.predict(test_image)\n",
    "\n",
    "if prediction[0][0] >= 0.5: # the sensitivity can be changed but I don't see why\n",
    "    print(\"The audio is predicted as REAL.\")\n",
    "else:\n",
    "    print(\"The audio is predicted as FAKE.\")\n"
   ]
  }
 ],
 "metadata": {
  "kernelspec": {
   "display_name": "ml01",
   "language": "python",
   "name": "python3"
  },
  "language_info": {
   "codemirror_mode": {
    "name": "ipython",
    "version": 3
   },
   "file_extension": ".py",
   "mimetype": "text/x-python",
   "name": "python",
   "nbconvert_exporter": "python",
   "pygments_lexer": "ipython3",
   "version": "3.10.13"
  }
 },
 "nbformat": 4,
 "nbformat_minor": 2
}
